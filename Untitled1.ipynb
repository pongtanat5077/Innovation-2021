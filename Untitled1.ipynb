{
  "nbformat": 4,
  "nbformat_minor": 0,
  "metadata": {
    "colab": {
      "name": "Untitled1.ipynb",
      "provenance": [],
      "include_colab_link": true
    },
    "kernelspec": {
      "name": "python3",
      "display_name": "Python 3"
    },
    "language_info": {
      "name": "python"
    }
  },
  "cells": [
    {
      "cell_type": "markdown",
      "metadata": {
        "id": "view-in-github",
        "colab_type": "text"
      },
      "source": [
        "<a href=\"https://colab.research.google.com/github/pongtanat5077/Innovation-2021/blob/main/Untitled1.ipynb\" target=\"_parent\"><img src=\"https://colab.research.google.com/assets/colab-badge.svg\" alt=\"Open In Colab\"/></a>"
      ]
    },
    {
      "cell_type": "code",
      "metadata": {
        "colab": {
          "base_uri": "https://localhost:8080/"
        },
        "id": "0mZcKDQulTUp",
        "outputId": "882fe3c7-f198-4340-feeb-b30381e54a42"
      },
      "source": [
        "!pip install --quiet paho-mqtt\n",
        "\n",
        "# The callback for when the client receives a CONNACK response from the server.\n",
        "def on_connect(client, userdata, flags, rc):\n",
        "    print(\"Connected with result code\"+str(rc))\n",
        "    client.subscribe(\"@msg/#\")\n",
        "\n",
        "# The callback for when a PUBLISH message is received from the server.\n",
        "def on_message(client, userdata, msg):\n",
        "    print(msg.topic+\" \"+str(msg.payload))\n",
        "\n",
        "client = mqtt.Client('76336d24-74ee-44b6-a883-b3ce3ee61436')\n",
        "client.username_pw_set(username=\"dxeX6GHkQD3i2Ue6WN4weXAeRKo5H3x6\",password=\"uTTMVQvHjYLfL2g6G2AbXJaDMtSSijWa\")\n",
        "client.on_connect = on_connect\n",
        "client.on_message = on_message\n",
        "\n",
        "client.connect(\"mqtt.netpie.io\", 1883,60)\n",
        "client.loop_forever()"
      ],
      "execution_count": null,
      "outputs": [
        {
          "output_type": "stream",
          "name": "stdout",
          "text": [
            "\u001b[?25l\r\u001b[K     |███▏                            | 10 kB 21.8 MB/s eta 0:00:01\r\u001b[K     |██████▍                         | 20 kB 26.2 MB/s eta 0:00:01\r\u001b[K     |█████████▋                      | 30 kB 19.4 MB/s eta 0:00:01\r\u001b[K     |████████████▉                   | 40 kB 16.3 MB/s eta 0:00:01\r\u001b[K     |████████████████                | 51 kB 5.7 MB/s eta 0:00:01\r\u001b[K     |███████████████████▎            | 61 kB 6.1 MB/s eta 0:00:01\r\u001b[K     |██████████████████████▌         | 71 kB 5.5 MB/s eta 0:00:01\r\u001b[K     |█████████████████████████▊      | 81 kB 6.1 MB/s eta 0:00:01\r\u001b[K     |█████████████████████████████   | 92 kB 6.4 MB/s eta 0:00:01\r\u001b[K     |████████████████████████████████| 101 kB 4.0 MB/s \n"
          ]
        }
      ]
    }
  ]
}